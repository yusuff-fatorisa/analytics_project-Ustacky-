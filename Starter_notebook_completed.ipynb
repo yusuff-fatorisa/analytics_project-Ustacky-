{
 "cells": [
  {
   "cell_type": "markdown",
   "metadata": {},
   "source": [
    "# Analyze Supermarket Data Across the Country - Company XYZ\n",
    "\n",
    "Company XYZ owns a supermarket chain across the country. Each major branch located in 3 cities across the country recorded sales information for 3 months, to help the company understand sales trends and determine its growth, as the rise of supermarkets competition is seen."
   ]
  },
  {
   "cell_type": "markdown",
   "metadata": {},
   "source": [
    "You will apply learnings to analyse the dataset in the data folder, and the description of each feature can be found in this [link](https://docs.google.com/document/d/1Sv-DlynHpOBAs5qKokn5MtbzqZcumTSlSI4-wQ0kf0w/edit?usp=sharing)"
   ]
  },
  {
   "cell_type": "markdown",
   "metadata": {},
   "source": [
    "## Step 1 - Loading the Dataset\n",
    "In this step, you will combine the dataset from each branch (3 branches) into one dataset for easy analysis. You expected to write the syntaxes that will read multiple files from your current working directory and export a CSV file after combining. \n",
    "The learning from this step is the ability to automate reading and combining multiple CSV files, because as a Data Professional, you will saddled with the responsibility of reading data from different sources, and this is one of the use case."
   ]
  },
  {
   "cell_type": "markdown",
   "metadata": {},
   "source": [
    "#### To-Do - Import Libraries"
   ]
  },
  {
   "cell_type": "code",
   "execution_count": 1,
   "metadata": {},
   "outputs": [],
   "source": [
    "import os\n",
    "import glob\n",
    "import pandas as pd\n",
    "#os.chdir(\"/mydir\") \n",
    "#%cd ~/Downloads/Data-Analysis-Project-main/Data-Analysis-Project-main"
   ]
  },
  {
   "cell_type": "code",
   "execution_count": 2,
   "metadata": {},
   "outputs": [
    {
     "data": {
      "text/plain": [
       "'C:\\\\Users\\\\HP\\\\Desktop'"
      ]
     },
     "execution_count": 2,
     "metadata": {},
     "output_type": "execute_result"
    }
   ],
   "source": [
    "pwd"
   ]
  },
  {
   "cell_type": "markdown",
   "metadata": {},
   "source": [
    "#### To-Do - Use glob to match the pattern \"csv\""
   ]
  },
  {
   "cell_type": "code",
   "execution_count": 3,
   "metadata": {},
   "outputs": [],
   "source": [
    "extension = 'Branch*.csv'\n",
    "#[Write your Code Here]\n",
    "files = glob.glob(\"*Branch.*csv\")"
   ]
  },
  {
   "cell_type": "code",
   "execution_count": 4,
   "metadata": {},
   "outputs": [
    {
     "data": {
      "text/plain": [
       "['Abuja_Branch.csv', 'Lagos_Branch.csv', 'Port_Harcourt_Branch.csv']"
      ]
     },
     "execution_count": 4,
     "metadata": {},
     "output_type": "execute_result"
    }
   ],
   "source": [
    "files"
   ]
  },
  {
   "cell_type": "code",
   "execution_count": 5,
   "metadata": {},
   "outputs": [],
   "source": [
    "sales_files = [pd.read_csv(file) for file in files]"
   ]
  },
  {
   "cell_type": "markdown",
   "metadata": {},
   "source": [
    "#### To-Do - Combine all the files in the generated list above and export to a CSV\n",
    "Tips - Use the `pd.concat` method"
   ]
  },
  {
   "cell_type": "code",
   "execution_count": 6,
   "metadata": {},
   "outputs": [],
   "source": [
    "#abuja_file = pd.read_csv(\"Abuja_Branch.csv\")\n",
    "#print(f\"The shape of Abuja.csv file is : {abuja_file.shape}\")\n",
    "#lagos_file = pd.read_csv(\"Lagos_Branch.csv\")\n",
    "#print(f\"The shape of Lagos.csv file is : {lagos_file.shape}\")\n",
    "#portharcourt_file = pd.read_csv(\"Port_Harcourt_Branch.csv\")\n",
    "#print(f\"The shape of Port-Harcourt.csv file is : {portharcourt_file.shape}\")"
   ]
  },
  {
   "cell_type": "code",
   "execution_count": 7,
   "metadata": {},
   "outputs": [],
   "source": [
    "#combined_file = pd.concat([abuja_file, lagos_file, portharcourt_file], ignore_index = True)\n",
    "#print(combined_file.shape)\n",
    "#combined_file.head()"
   ]
  },
  {
   "cell_type": "code",
   "execution_count": 8,
   "metadata": {},
   "outputs": [
    {
     "name": "stdout",
     "output_type": "stream",
     "text": [
      "(1000, 17)\n"
     ]
    },
    {
     "data": {
      "text/html": [
       "<div>\n",
       "<style scoped>\n",
       "    .dataframe tbody tr th:only-of-type {\n",
       "        vertical-align: middle;\n",
       "    }\n",
       "\n",
       "    .dataframe tbody tr th {\n",
       "        vertical-align: top;\n",
       "    }\n",
       "\n",
       "    .dataframe thead th {\n",
       "        text-align: right;\n",
       "    }\n",
       "</style>\n",
       "<table border=\"1\" class=\"dataframe\">\n",
       "  <thead>\n",
       "    <tr style=\"text-align: right;\">\n",
       "      <th></th>\n",
       "      <th>Invoice ID</th>\n",
       "      <th>Branch</th>\n",
       "      <th>City</th>\n",
       "      <th>Customer type</th>\n",
       "      <th>Gender</th>\n",
       "      <th>Product line</th>\n",
       "      <th>Unit price</th>\n",
       "      <th>Quantity</th>\n",
       "      <th>Tax 5%</th>\n",
       "      <th>Total</th>\n",
       "      <th>Date</th>\n",
       "      <th>Time</th>\n",
       "      <th>Payment</th>\n",
       "      <th>cogs</th>\n",
       "      <th>gross margin percentage</th>\n",
       "      <th>gross income</th>\n",
       "      <th>Rating</th>\n",
       "    </tr>\n",
       "  </thead>\n",
       "  <tbody>\n",
       "    <tr>\n",
       "      <th>0</th>\n",
       "      <td>692-92-5582</td>\n",
       "      <td>B</td>\n",
       "      <td>Abuja</td>\n",
       "      <td>Member</td>\n",
       "      <td>Female</td>\n",
       "      <td>Food and beverages</td>\n",
       "      <td>19742.4</td>\n",
       "      <td>3</td>\n",
       "      <td>2961.36</td>\n",
       "      <td>62188.56</td>\n",
       "      <td>2/20/2019</td>\n",
       "      <td>13:27</td>\n",
       "      <td>Card</td>\n",
       "      <td>59227.2</td>\n",
       "      <td>4.761905</td>\n",
       "      <td>2961.36</td>\n",
       "      <td>5.9</td>\n",
       "    </tr>\n",
       "    <tr>\n",
       "      <th>1</th>\n",
       "      <td>351-62-0822</td>\n",
       "      <td>B</td>\n",
       "      <td>Abuja</td>\n",
       "      <td>Member</td>\n",
       "      <td>Female</td>\n",
       "      <td>Fashion accessories</td>\n",
       "      <td>5212.8</td>\n",
       "      <td>4</td>\n",
       "      <td>1042.56</td>\n",
       "      <td>21893.76</td>\n",
       "      <td>2/6/2019</td>\n",
       "      <td>18:07</td>\n",
       "      <td>Epay</td>\n",
       "      <td>20851.2</td>\n",
       "      <td>4.761905</td>\n",
       "      <td>1042.56</td>\n",
       "      <td>4.5</td>\n",
       "    </tr>\n",
       "    <tr>\n",
       "      <th>2</th>\n",
       "      <td>529-56-3974</td>\n",
       "      <td>B</td>\n",
       "      <td>Abuja</td>\n",
       "      <td>Member</td>\n",
       "      <td>Male</td>\n",
       "      <td>Electronic accessories</td>\n",
       "      <td>9183.6</td>\n",
       "      <td>4</td>\n",
       "      <td>1836.72</td>\n",
       "      <td>38571.12</td>\n",
       "      <td>3/9/2019</td>\n",
       "      <td>17:03</td>\n",
       "      <td>Cash</td>\n",
       "      <td>36734.4</td>\n",
       "      <td>4.761905</td>\n",
       "      <td>1836.72</td>\n",
       "      <td>6.8</td>\n",
       "    </tr>\n",
       "    <tr>\n",
       "      <th>3</th>\n",
       "      <td>299-46-1805</td>\n",
       "      <td>B</td>\n",
       "      <td>Abuja</td>\n",
       "      <td>Member</td>\n",
       "      <td>Female</td>\n",
       "      <td>Sports and travel</td>\n",
       "      <td>33739.2</td>\n",
       "      <td>6</td>\n",
       "      <td>10121.76</td>\n",
       "      <td>212556.96</td>\n",
       "      <td>1/15/2019</td>\n",
       "      <td>16:19</td>\n",
       "      <td>Cash</td>\n",
       "      <td>202435.2</td>\n",
       "      <td>4.761905</td>\n",
       "      <td>10121.76</td>\n",
       "      <td>4.5</td>\n",
       "    </tr>\n",
       "    <tr>\n",
       "      <th>4</th>\n",
       "      <td>319-50-3348</td>\n",
       "      <td>B</td>\n",
       "      <td>Abuja</td>\n",
       "      <td>Normal</td>\n",
       "      <td>Female</td>\n",
       "      <td>Home and lifestyle</td>\n",
       "      <td>14508.0</td>\n",
       "      <td>2</td>\n",
       "      <td>1450.80</td>\n",
       "      <td>30466.80</td>\n",
       "      <td>3/11/2019</td>\n",
       "      <td>15:30</td>\n",
       "      <td>Epay</td>\n",
       "      <td>29016.0</td>\n",
       "      <td>4.761905</td>\n",
       "      <td>1450.80</td>\n",
       "      <td>4.4</td>\n",
       "    </tr>\n",
       "  </tbody>\n",
       "</table>\n",
       "</div>"
      ],
      "text/plain": [
       "    Invoice ID Branch   City Customer type  Gender            Product line  \\\n",
       "0  692-92-5582      B  Abuja        Member  Female      Food and beverages   \n",
       "1  351-62-0822      B  Abuja        Member  Female     Fashion accessories   \n",
       "2  529-56-3974      B  Abuja        Member    Male  Electronic accessories   \n",
       "3  299-46-1805      B  Abuja        Member  Female       Sports and travel   \n",
       "4  319-50-3348      B  Abuja        Normal  Female      Home and lifestyle   \n",
       "\n",
       "   Unit price  Quantity    Tax 5%      Total       Date   Time Payment  \\\n",
       "0     19742.4         3   2961.36   62188.56  2/20/2019  13:27    Card   \n",
       "1      5212.8         4   1042.56   21893.76   2/6/2019  18:07    Epay   \n",
       "2      9183.6         4   1836.72   38571.12   3/9/2019  17:03    Cash   \n",
       "3     33739.2         6  10121.76  212556.96  1/15/2019  16:19    Cash   \n",
       "4     14508.0         2   1450.80   30466.80  3/11/2019  15:30    Epay   \n",
       "\n",
       "       cogs  gross margin percentage  gross income  Rating  \n",
       "0   59227.2                 4.761905       2961.36     5.9  \n",
       "1   20851.2                 4.761905       1042.56     4.5  \n",
       "2   36734.4                 4.761905       1836.72     6.8  \n",
       "3  202435.2                 4.761905      10121.76     4.5  \n",
       "4   29016.0                 4.761905       1450.80     4.4  "
      ]
     },
     "execution_count": 8,
     "metadata": {},
     "output_type": "execute_result"
    }
   ],
   "source": [
    "combined_file = pd.concat([state_sales for state_sales in sales_files], ignore_index = True)\n",
    "print(combined_file.shape)\n",
    "combined_file.head()"
   ]
  },
  {
   "cell_type": "code",
   "execution_count": 9,
   "metadata": {},
   "outputs": [],
   "source": [
    "#[Write your Code Here]\n",
    "#Export to csv\n",
    "#[Write your Code Here]\n",
    "combined_file.to_csv(\"Head_Office.csv\", index = False)"
   ]
  },
  {
   "cell_type": "code",
   "execution_count": 10,
   "metadata": {},
   "outputs": [
    {
     "data": {
      "text/plain": [
       "RangeIndex(start=0, stop=1000, step=1)"
      ]
     },
     "execution_count": 10,
     "metadata": {},
     "output_type": "execute_result"
    }
   ],
   "source": [
    "combined_file.index"
   ]
  },
  {
   "cell_type": "markdown",
   "metadata": {},
   "source": [
    "#### To-Do -Read the CSV file using `pd.read_csv` method"
   ]
  },
  {
   "cell_type": "code",
   "execution_count": 11,
   "metadata": {},
   "outputs": [],
   "source": [
    "#[Write your Code Here]\n",
    "data = pd.read_csv(\"Head_Office.csv\")"
   ]
  },
  {
   "cell_type": "markdown",
   "metadata": {},
   "source": [
    "## Step 2 - Data Exploration\n",
    "In this step you will explore the loaded dataset using some built-in Pandas function. You expected to begin to think about your analytical approach from here. \n",
    "You can include other methods that you might think will make your exploration process easier. For Instance, you can write a function that print out a summary of the missing data occurence in the data. Be sure to document these methods using `markdown` and in-line `comments`."
   ]
  },
  {
   "cell_type": "markdown",
   "metadata": {},
   "source": [
    "### Import Libraries"
   ]
  },
  {
   "cell_type": "code",
   "execution_count": 12,
   "metadata": {},
   "outputs": [],
   "source": [
    "import pandas as pd\n",
    "import numpy as np\n",
    "import seaborn as sns\n",
    "sns.set()\n",
    "import matplotlib.pyplot as plt\n",
    "%matplotlib inline\n",
    "plt.style.use('fivethirtyeight')  \n",
    "import warnings\n",
    "warnings.filterwarnings('ignore')"
   ]
  },
  {
   "cell_type": "markdown",
   "metadata": {},
   "source": [
    "#### To-Do - Use the head() method to view first few rows of the dataset"
   ]
  },
  {
   "cell_type": "code",
   "execution_count": 13,
   "metadata": {},
   "outputs": [
    {
     "data": {
      "text/html": [
       "<div>\n",
       "<style scoped>\n",
       "    .dataframe tbody tr th:only-of-type {\n",
       "        vertical-align: middle;\n",
       "    }\n",
       "\n",
       "    .dataframe tbody tr th {\n",
       "        vertical-align: top;\n",
       "    }\n",
       "\n",
       "    .dataframe thead th {\n",
       "        text-align: right;\n",
       "    }\n",
       "</style>\n",
       "<table border=\"1\" class=\"dataframe\">\n",
       "  <thead>\n",
       "    <tr style=\"text-align: right;\">\n",
       "      <th></th>\n",
       "      <th>Invoice ID</th>\n",
       "      <th>Branch</th>\n",
       "      <th>City</th>\n",
       "      <th>Customer type</th>\n",
       "      <th>Gender</th>\n",
       "      <th>Product line</th>\n",
       "      <th>Unit price</th>\n",
       "      <th>Quantity</th>\n",
       "      <th>Tax 5%</th>\n",
       "      <th>Total</th>\n",
       "      <th>Date</th>\n",
       "      <th>Time</th>\n",
       "      <th>Payment</th>\n",
       "      <th>cogs</th>\n",
       "      <th>gross margin percentage</th>\n",
       "      <th>gross income</th>\n",
       "      <th>Rating</th>\n",
       "    </tr>\n",
       "  </thead>\n",
       "  <tbody>\n",
       "    <tr>\n",
       "      <th>0</th>\n",
       "      <td>692-92-5582</td>\n",
       "      <td>B</td>\n",
       "      <td>Abuja</td>\n",
       "      <td>Member</td>\n",
       "      <td>Female</td>\n",
       "      <td>Food and beverages</td>\n",
       "      <td>19742.4</td>\n",
       "      <td>3</td>\n",
       "      <td>2961.36</td>\n",
       "      <td>62188.56</td>\n",
       "      <td>2/20/2019</td>\n",
       "      <td>13:27</td>\n",
       "      <td>Card</td>\n",
       "      <td>59227.2</td>\n",
       "      <td>4.761905</td>\n",
       "      <td>2961.36</td>\n",
       "      <td>5.9</td>\n",
       "    </tr>\n",
       "    <tr>\n",
       "      <th>1</th>\n",
       "      <td>351-62-0822</td>\n",
       "      <td>B</td>\n",
       "      <td>Abuja</td>\n",
       "      <td>Member</td>\n",
       "      <td>Female</td>\n",
       "      <td>Fashion accessories</td>\n",
       "      <td>5212.8</td>\n",
       "      <td>4</td>\n",
       "      <td>1042.56</td>\n",
       "      <td>21893.76</td>\n",
       "      <td>2/6/2019</td>\n",
       "      <td>18:07</td>\n",
       "      <td>Epay</td>\n",
       "      <td>20851.2</td>\n",
       "      <td>4.761905</td>\n",
       "      <td>1042.56</td>\n",
       "      <td>4.5</td>\n",
       "    </tr>\n",
       "    <tr>\n",
       "      <th>2</th>\n",
       "      <td>529-56-3974</td>\n",
       "      <td>B</td>\n",
       "      <td>Abuja</td>\n",
       "      <td>Member</td>\n",
       "      <td>Male</td>\n",
       "      <td>Electronic accessories</td>\n",
       "      <td>9183.6</td>\n",
       "      <td>4</td>\n",
       "      <td>1836.72</td>\n",
       "      <td>38571.12</td>\n",
       "      <td>3/9/2019</td>\n",
       "      <td>17:03</td>\n",
       "      <td>Cash</td>\n",
       "      <td>36734.4</td>\n",
       "      <td>4.761905</td>\n",
       "      <td>1836.72</td>\n",
       "      <td>6.8</td>\n",
       "    </tr>\n",
       "    <tr>\n",
       "      <th>3</th>\n",
       "      <td>299-46-1805</td>\n",
       "      <td>B</td>\n",
       "      <td>Abuja</td>\n",
       "      <td>Member</td>\n",
       "      <td>Female</td>\n",
       "      <td>Sports and travel</td>\n",
       "      <td>33739.2</td>\n",
       "      <td>6</td>\n",
       "      <td>10121.76</td>\n",
       "      <td>212556.96</td>\n",
       "      <td>1/15/2019</td>\n",
       "      <td>16:19</td>\n",
       "      <td>Cash</td>\n",
       "      <td>202435.2</td>\n",
       "      <td>4.761905</td>\n",
       "      <td>10121.76</td>\n",
       "      <td>4.5</td>\n",
       "    </tr>\n",
       "    <tr>\n",
       "      <th>4</th>\n",
       "      <td>319-50-3348</td>\n",
       "      <td>B</td>\n",
       "      <td>Abuja</td>\n",
       "      <td>Normal</td>\n",
       "      <td>Female</td>\n",
       "      <td>Home and lifestyle</td>\n",
       "      <td>14508.0</td>\n",
       "      <td>2</td>\n",
       "      <td>1450.80</td>\n",
       "      <td>30466.80</td>\n",
       "      <td>3/11/2019</td>\n",
       "      <td>15:30</td>\n",
       "      <td>Epay</td>\n",
       "      <td>29016.0</td>\n",
       "      <td>4.761905</td>\n",
       "      <td>1450.80</td>\n",
       "      <td>4.4</td>\n",
       "    </tr>\n",
       "  </tbody>\n",
       "</table>\n",
       "</div>"
      ],
      "text/plain": [
       "    Invoice ID Branch   City Customer type  Gender            Product line  \\\n",
       "0  692-92-5582      B  Abuja        Member  Female      Food and beverages   \n",
       "1  351-62-0822      B  Abuja        Member  Female     Fashion accessories   \n",
       "2  529-56-3974      B  Abuja        Member    Male  Electronic accessories   \n",
       "3  299-46-1805      B  Abuja        Member  Female       Sports and travel   \n",
       "4  319-50-3348      B  Abuja        Normal  Female      Home and lifestyle   \n",
       "\n",
       "   Unit price  Quantity    Tax 5%      Total       Date   Time Payment  \\\n",
       "0     19742.4         3   2961.36   62188.56  2/20/2019  13:27    Card   \n",
       "1      5212.8         4   1042.56   21893.76   2/6/2019  18:07    Epay   \n",
       "2      9183.6         4   1836.72   38571.12   3/9/2019  17:03    Cash   \n",
       "3     33739.2         6  10121.76  212556.96  1/15/2019  16:19    Cash   \n",
       "4     14508.0         2   1450.80   30466.80  3/11/2019  15:30    Epay   \n",
       "\n",
       "       cogs  gross margin percentage  gross income  Rating  \n",
       "0   59227.2                 4.761905       2961.36     5.9  \n",
       "1   20851.2                 4.761905       1042.56     4.5  \n",
       "2   36734.4                 4.761905       1836.72     6.8  \n",
       "3  202435.2                 4.761905      10121.76     4.5  \n",
       "4   29016.0                 4.761905       1450.80     4.4  "
      ]
     },
     "execution_count": 13,
     "metadata": {},
     "output_type": "execute_result"
    }
   ],
   "source": [
    "#[Write your Code Here]\n",
    "data.head()"
   ]
  },
  {
   "cell_type": "markdown",
   "metadata": {},
   "source": [
    "#### To-Do - Check the number of rows and columns present in the data using the shape attribute."
   ]
  },
  {
   "cell_type": "code",
   "execution_count": 14,
   "metadata": {},
   "outputs": [
    {
     "name": "stdout",
     "output_type": "stream",
     "text": [
      "The Output of using the shape attribute of the Pandas object is : (1000, 17)\n",
      "From the result obtained above,\n",
      "The number of rows in the Pandas DataFrame object is : 1000\n",
      "And the number of columns in the Pandas DataFrame object is : 17\n"
     ]
    }
   ],
   "source": [
    "#[Write your Code Here]\n",
    "print(f\"The Output of using the shape attribute of the Pandas object is : {data.shape}\\nFrom the result obtained above,\\nThe number of rows in the Pandas DataFrame object is : {data.shape[0]}\\nAnd the number of columns in the Pandas DataFrame object is : {data.shape[-1]}\")"
   ]
  },
  {
   "cell_type": "markdown",
   "metadata": {},
   "source": [
    "#### To-Do - Generate the names of the columns using the columns attribute."
   ]
  },
  {
   "cell_type": "code",
   "execution_count": 15,
   "metadata": {},
   "outputs": [
    {
     "name": "stdout",
     "output_type": "stream",
     "text": [
      "The number of columns in the Pandas DataFrame is : 17\n",
      "And the columns are listed below\n",
      "\n",
      "1 \t Invoice ID\n",
      "2 \t Branch\n",
      "3 \t City\n",
      "4 \t Customer type\n",
      "5 \t Gender\n",
      "6 \t Product line\n",
      "7 \t Unit price\n",
      "8 \t Quantity\n",
      "9 \t Tax 5%\n",
      "10 \t Total\n",
      "11 \t Date\n",
      "12 \t Time\n",
      "13 \t Payment\n",
      "14 \t cogs\n",
      "15 \t gross margin percentage\n",
      "16 \t gross income\n",
      "17 \t Rating\n"
     ]
    }
   ],
   "source": [
    "#[Write your Code Here]\n",
    "\n",
    "print(f\"The number of columns in the Pandas DataFrame is : {len(data.columns)}\\nAnd the columns are listed below\\n\")\n",
    "\n",
    "for index, name in enumerate(data.columns, start = 1) :\n",
    "    print(index, \"\\t\", name)"
   ]
  },
  {
   "cell_type": "markdown",
   "metadata": {},
   "source": [
    "#### To-Do - Statiscal Summary\n",
    "The describe method provides the data statistical summary for the dataset, use the method to explore the statistical summary."
   ]
  },
  {
   "cell_type": "code",
   "execution_count": 16,
   "metadata": {},
   "outputs": [
    {
     "data": {
      "text/html": [
       "<div>\n",
       "<style scoped>\n",
       "    .dataframe tbody tr th:only-of-type {\n",
       "        vertical-align: middle;\n",
       "    }\n",
       "\n",
       "    .dataframe tbody tr th {\n",
       "        vertical-align: top;\n",
       "    }\n",
       "\n",
       "    .dataframe thead th {\n",
       "        text-align: right;\n",
       "    }\n",
       "</style>\n",
       "<table border=\"1\" class=\"dataframe\">\n",
       "  <thead>\n",
       "    <tr style=\"text-align: right;\">\n",
       "      <th></th>\n",
       "      <th>Unit price</th>\n",
       "      <th>Quantity</th>\n",
       "      <th>Tax 5%</th>\n",
       "      <th>Total</th>\n",
       "      <th>cogs</th>\n",
       "      <th>gross margin percentage</th>\n",
       "      <th>gross income</th>\n",
       "      <th>Rating</th>\n",
       "    </tr>\n",
       "  </thead>\n",
       "  <tbody>\n",
       "    <tr>\n",
       "      <th>count</th>\n",
       "      <td>1000.000000</td>\n",
       "      <td>1000.000000</td>\n",
       "      <td>1000.000000</td>\n",
       "      <td>1000.000000</td>\n",
       "      <td>1000.000000</td>\n",
       "      <td>1.000000e+03</td>\n",
       "      <td>1000.000000</td>\n",
       "      <td>1000.00000</td>\n",
       "    </tr>\n",
       "    <tr>\n",
       "      <th>mean</th>\n",
       "      <td>20041.966800</td>\n",
       "      <td>5.510000</td>\n",
       "      <td>5536.572840</td>\n",
       "      <td>116268.029640</td>\n",
       "      <td>110731.456800</td>\n",
       "      <td>4.761905e+00</td>\n",
       "      <td>5536.572840</td>\n",
       "      <td>6.97270</td>\n",
       "    </tr>\n",
       "    <tr>\n",
       "      <th>std</th>\n",
       "      <td>9538.066205</td>\n",
       "      <td>2.923431</td>\n",
       "      <td>4215.177173</td>\n",
       "      <td>88518.720636</td>\n",
       "      <td>84303.543463</td>\n",
       "      <td>6.220360e-14</td>\n",
       "      <td>4215.177173</td>\n",
       "      <td>1.71858</td>\n",
       "    </tr>\n",
       "    <tr>\n",
       "      <th>min</th>\n",
       "      <td>3628.800000</td>\n",
       "      <td>1.000000</td>\n",
       "      <td>183.060000</td>\n",
       "      <td>3844.260000</td>\n",
       "      <td>3661.200000</td>\n",
       "      <td>4.761905e+00</td>\n",
       "      <td>183.060000</td>\n",
       "      <td>4.00000</td>\n",
       "    </tr>\n",
       "    <tr>\n",
       "      <th>25%</th>\n",
       "      <td>11835.000000</td>\n",
       "      <td>3.000000</td>\n",
       "      <td>2132.955000</td>\n",
       "      <td>44792.055000</td>\n",
       "      <td>42659.100000</td>\n",
       "      <td>4.761905e+00</td>\n",
       "      <td>2132.955000</td>\n",
       "      <td>5.50000</td>\n",
       "    </tr>\n",
       "    <tr>\n",
       "      <th>50%</th>\n",
       "      <td>19882.800000</td>\n",
       "      <td>5.000000</td>\n",
       "      <td>4351.680000</td>\n",
       "      <td>91385.280000</td>\n",
       "      <td>87033.600000</td>\n",
       "      <td>4.761905e+00</td>\n",
       "      <td>4351.680000</td>\n",
       "      <td>7.00000</td>\n",
       "    </tr>\n",
       "    <tr>\n",
       "      <th>75%</th>\n",
       "      <td>28056.600000</td>\n",
       "      <td>8.000000</td>\n",
       "      <td>8080.290000</td>\n",
       "      <td>169686.090000</td>\n",
       "      <td>161605.800000</td>\n",
       "      <td>4.761905e+00</td>\n",
       "      <td>8080.290000</td>\n",
       "      <td>8.50000</td>\n",
       "    </tr>\n",
       "    <tr>\n",
       "      <th>max</th>\n",
       "      <td>35985.600000</td>\n",
       "      <td>10.000000</td>\n",
       "      <td>17874.000000</td>\n",
       "      <td>375354.000000</td>\n",
       "      <td>357480.000000</td>\n",
       "      <td>4.761905e+00</td>\n",
       "      <td>17874.000000</td>\n",
       "      <td>10.00000</td>\n",
       "    </tr>\n",
       "  </tbody>\n",
       "</table>\n",
       "</div>"
      ],
      "text/plain": [
       "         Unit price     Quantity        Tax 5%          Total           cogs  \\\n",
       "count   1000.000000  1000.000000   1000.000000    1000.000000    1000.000000   \n",
       "mean   20041.966800     5.510000   5536.572840  116268.029640  110731.456800   \n",
       "std     9538.066205     2.923431   4215.177173   88518.720636   84303.543463   \n",
       "min     3628.800000     1.000000    183.060000    3844.260000    3661.200000   \n",
       "25%    11835.000000     3.000000   2132.955000   44792.055000   42659.100000   \n",
       "50%    19882.800000     5.000000   4351.680000   91385.280000   87033.600000   \n",
       "75%    28056.600000     8.000000   8080.290000  169686.090000  161605.800000   \n",
       "max    35985.600000    10.000000  17874.000000  375354.000000  357480.000000   \n",
       "\n",
       "       gross margin percentage  gross income      Rating  \n",
       "count             1.000000e+03   1000.000000  1000.00000  \n",
       "mean              4.761905e+00   5536.572840     6.97270  \n",
       "std               6.220360e-14   4215.177173     1.71858  \n",
       "min               4.761905e+00    183.060000     4.00000  \n",
       "25%               4.761905e+00   2132.955000     5.50000  \n",
       "50%               4.761905e+00   4351.680000     7.00000  \n",
       "75%               4.761905e+00   8080.290000     8.50000  \n",
       "max               4.761905e+00  17874.000000    10.00000  "
      ]
     },
     "execution_count": 16,
     "metadata": {},
     "output_type": "execute_result"
    }
   ],
   "source": [
    "#[Write your Code Here]\n",
    "stats = data.describe()\n",
    "stats"
   ]
  },
  {
   "cell_type": "markdown",
   "metadata": {},
   "source": [
    "#### To-Do - Below this cell write in few sentences what you can derive from the data statistical summary"
   ]
  },
  {
   "cell_type": "code",
   "execution_count": 17,
   "metadata": {},
   "outputs": [
    {
     "name": "stdout",
     "output_type": "stream",
     "text": [
      "1].\tOut of the 17 in the dataset, only 8 are numerical columns and that's whats obtained from using the \"describe()\" method\n",
      "\n",
      "2].\tThe number of valid rows i.e without \"Missing Values\" in each of these columns is 1000 as indicated in the \"count\" row of the returned DataFrame\n",
      "\n",
      "3].\tThe Mean values of each of these columns are displayed in the \"mean\" row of the returned DataFrame\n",
      "\n",
      "4].\tThe Standard Deviation value of each of these columns is displayed in the \"std\" row of the returned DataFrame\n",
      "\n",
      "5].\tThe Minimum and Maximum Values of each of these columns are displayed in the \"min & max\" rows of the returned DataFrame\n",
      "\n",
      "6].\tThe values that marks the 25th percentile, the median (represented by the 50th percentile) and the 75th percentile for each of the columns are displayed in the \"25%, 50% & 75%\" rows of the returned DataFrame respectively\n"
     ]
    }
   ],
   "source": [
    "print(f\"1].\\tOut of the {len(data.columns)} in the dataset, only {len(stats.columns)} are numerical columns and that's whats obtained from using the \\\"describe()\\\" method\\n\")\n",
    "print(f\"2].\\tThe number of valid rows i.e without \\\"Missing Values\\\" in each of these columns is 1000 as indicated in the \\\"count\\\" row of the returned DataFrame\\n\")\n",
    "print(f\"3].\\tThe Mean values of each of these columns are displayed in the \\\"mean\\\" row of the returned DataFrame\\n\")\n",
    "print(f\"4].\\tThe Standard Deviation value of each of these columns is displayed in the \\\"std\\\" row of the returned DataFrame\\n\")\n",
    "print(f\"5].\\tThe Minimum and Maximum Values of each of these columns are displayed in the \\\"min & max\\\" rows of the returned DataFrame\\n\")\n",
    "print(f\"6].\\tThe values that marks the 25th percentile, the median (represented by the 50th percentile) and the 75th percentile for each of the columns are displayed in the \\\"25%, 50% & 75%\\\" rows of the returned DataFrame respectively\")"
   ]
  },
  {
   "cell_type": "code",
   "execution_count": 18,
   "metadata": {},
   "outputs": [
    {
     "data": {
      "text/plain": [
       "object     9\n",
       "float64    7\n",
       "int64      1\n",
       "dtype: int64"
      ]
     },
     "execution_count": 18,
     "metadata": {},
     "output_type": "execute_result"
    }
   ],
   "source": [
    "data.dtypes.value_counts()"
   ]
  },
  {
   "cell_type": "markdown",
   "metadata": {},
   "source": [
    "#### To-Do - Missing values\n",
    "The `isnull`, and `notna` methods can provide a quick overview of the missing data occurence, use that to observe the presence of missing data in the dataset. You can add the sum method to get a summary and not boolean values."
   ]
  },
  {
   "cell_type": "code",
   "execution_count": 19,
   "metadata": {},
   "outputs": [
    {
     "data": {
      "text/plain": [
       "Invoice ID                 0\n",
       "Branch                     0\n",
       "City                       0\n",
       "Customer type              0\n",
       "Gender                     0\n",
       "Product line               0\n",
       "Unit price                 0\n",
       "Quantity                   0\n",
       "Tax 5%                     0\n",
       "Total                      0\n",
       "Date                       0\n",
       "Time                       0\n",
       "Payment                    0\n",
       "cogs                       0\n",
       "gross margin percentage    0\n",
       "gross income               0\n",
       "Rating                     0\n",
       "dtype: int64"
      ]
     },
     "execution_count": 19,
     "metadata": {},
     "output_type": "execute_result"
    }
   ],
   "source": [
    "#[Write your Code Here]\n",
    "data.isnull().sum()"
   ]
  },
  {
   "cell_type": "code",
   "execution_count": 20,
   "metadata": {},
   "outputs": [
    {
     "data": {
      "text/plain": [
       "Invoice ID                 1000\n",
       "Branch                     1000\n",
       "City                       1000\n",
       "Customer type              1000\n",
       "Gender                     1000\n",
       "Product line               1000\n",
       "Unit price                 1000\n",
       "Quantity                   1000\n",
       "Tax 5%                     1000\n",
       "Total                      1000\n",
       "Date                       1000\n",
       "Time                       1000\n",
       "Payment                    1000\n",
       "cogs                       1000\n",
       "gross margin percentage    1000\n",
       "gross income               1000\n",
       "Rating                     1000\n",
       "dtype: int64"
      ]
     },
     "execution_count": 20,
     "metadata": {},
     "output_type": "execute_result"
    }
   ],
   "source": [
    "# In the reverse case, using the 'pd.notna()' method will return the information for Non Missing Values in the Dataset\n",
    "# as returned below\n",
    "data.notna().sum()"
   ]
  },
  {
   "cell_type": "markdown",
   "metadata": {},
   "source": [
    "#### To do this more nicely in a well formatted way, below is  *`custom defined function`*  that returns information of  *`missing values`*  as well as  *`non missing values`*  for the  *`DataFrame`*  under inspection both in  *`actual values`*  and as a  *`percentage`*  of the total values in that  *`column.`*"
   ]
  },
  {
   "cell_type": "code",
   "execution_count": 21,
   "metadata": {},
   "outputs": [],
   "source": [
    "def describe_na(df) :\n",
    "    \n",
    "    \"\"\"\n",
    "    It takes a DataFrame as an input parameter.\n",
    "    And it returns as output, the DataFrame which gives information of the\n",
    "    1]. Missing Values in the DataFrame,\n",
    "    2]. Percentage of the Missing Values in the DataFrame,\n",
    "    3]. Non-Missing Values in the DataFrame,\n",
    "    4]. Percentage of the Non-Missing values in the DataFrame respectively\n",
    "    The output is returned as a DataFrame\n",
    "    \"\"\"\n",
    "    \n",
    "    na_sum = dict(df.isnull().sum()) # This makes a dictionary from the output of missing values\n",
    "    not_na_sum = dict(df.notnull().sum()) # This makes a dictionary from the output of the non missing values\n",
    "    total = len(df) # This takes the length of the whole DataFrame\n",
    "    na_expand = [ na for na in na_sum.values() if na > 0 ]\n",
    "    # The above line of code makes a list of values greater than ZERO from missing values of the na_sum dictionary\n",
    "    na_list = [ (na_s / total) * 100 for na_s in na_sum.values() if na_s > 0 ]\n",
    "    # The above line of code calculates the missing values as a percentage of the total value count in eaach column\n",
    "    not_na_expand = [ not_na for not_na in not_na_sum.values() if not_na < total ]\n",
    "    # The above line of code makes a list of values greater than ZERO from non missing values of the not_na_sum dictionary\n",
    "    not_na_list = [ (not_na_s / total) * 100 for not_na_s in not_na_sum.values() if not_na_s < total ]\n",
    "    # The above line of code calculates the non-missing values as a percentage of the total value count in each column\n",
    "    na_notna_df = pd.DataFrame( { 'null_counts' : na_expand, 'null_percent(%)' : na_list, \n",
    "                                 'not_null_counts' : not_na_expand, \n",
    "                               'not_null_percent(%)' : not_na_list}, \n",
    "                               index = [indices for indices, value in na_sum.items() if value > 0] )\n",
    "    # The above line of code constructs the required DataFrame from all the information calculated above\n",
    "    na_notna_df.index.name = 'column_name' # This gives an index name to the DataFrame\n",
    "    \n",
    "    shape_display = f\"{na_notna_df.shape[0]} Rows X {na_notna_df.shape[-1]} Columns\"\n",
    "    \n",
    "    return na_notna_df # And finally, a the DataFrame is returned"
   ]
  },
  {
   "cell_type": "code",
   "execution_count": 22,
   "metadata": {},
   "outputs": [
    {
     "data": {
      "text/html": [
       "<div>\n",
       "<style scoped>\n",
       "    .dataframe tbody tr th:only-of-type {\n",
       "        vertical-align: middle;\n",
       "    }\n",
       "\n",
       "    .dataframe tbody tr th {\n",
       "        vertical-align: top;\n",
       "    }\n",
       "\n",
       "    .dataframe thead th {\n",
       "        text-align: right;\n",
       "    }\n",
       "</style>\n",
       "<table border=\"1\" class=\"dataframe\">\n",
       "  <thead>\n",
       "    <tr style=\"text-align: right;\">\n",
       "      <th></th>\n",
       "      <th>null_counts</th>\n",
       "      <th>null_percent(%)</th>\n",
       "      <th>not_null_counts</th>\n",
       "      <th>not_null_percent(%)</th>\n",
       "    </tr>\n",
       "    <tr>\n",
       "      <th>column_name</th>\n",
       "      <th></th>\n",
       "      <th></th>\n",
       "      <th></th>\n",
       "      <th></th>\n",
       "    </tr>\n",
       "  </thead>\n",
       "  <tbody>\n",
       "  </tbody>\n",
       "</table>\n",
       "</div>"
      ],
      "text/plain": [
       "Empty DataFrame\n",
       "Columns: [null_counts, null_percent(%), not_null_counts, not_null_percent(%)]\n",
       "Index: []"
      ]
     },
     "execution_count": 22,
     "metadata": {},
     "output_type": "execute_result"
    }
   ],
   "source": [
    "describe_na(data)"
   ]
  },
  {
   "cell_type": "markdown",
   "metadata": {},
   "source": [
    "#### To-Do - Data Information\n",
    "The `info()` function is used to print a concise summary of a DataFrame. This method prints information about a DataFrame including the index dtype and column dtypes, non-null values and memory usage. Use this method to observe the data type of each feature."
   ]
  },
  {
   "cell_type": "code",
   "execution_count": 23,
   "metadata": {},
   "outputs": [
    {
     "name": "stdout",
     "output_type": "stream",
     "text": [
      "<class 'pandas.core.frame.DataFrame'>\n",
      "RangeIndex: 1000 entries, 0 to 999\n",
      "Data columns (total 17 columns):\n",
      " #   Column                   Non-Null Count  Dtype  \n",
      "---  ------                   --------------  -----  \n",
      " 0   Invoice ID               1000 non-null   object \n",
      " 1   Branch                   1000 non-null   object \n",
      " 2   City                     1000 non-null   object \n",
      " 3   Customer type            1000 non-null   object \n",
      " 4   Gender                   1000 non-null   object \n",
      " 5   Product line             1000 non-null   object \n",
      " 6   Unit price               1000 non-null   float64\n",
      " 7   Quantity                 1000 non-null   int64  \n",
      " 8   Tax 5%                   1000 non-null   float64\n",
      " 9   Total                    1000 non-null   float64\n",
      " 10  Date                     1000 non-null   object \n",
      " 11  Time                     1000 non-null   object \n",
      " 12  Payment                  1000 non-null   object \n",
      " 13  cogs                     1000 non-null   float64\n",
      " 14  gross margin percentage  1000 non-null   float64\n",
      " 15  gross income             1000 non-null   float64\n",
      " 16  Rating                   1000 non-null   float64\n",
      "dtypes: float64(7), int64(1), object(9)\n",
      "memory usage: 132.9+ KB\n"
     ]
    }
   ],
   "source": [
    "#[Write your Code Here]\n",
    "data.info()"
   ]
  },
  {
   "cell_type": "markdown",
   "metadata": {},
   "source": [
    "## Step 3 - Dealing with DateTime Features"
   ]
  },
  {
   "cell_type": "markdown",
   "metadata": {},
   "source": [
    "From the summary above, you can observe that the `date` and `time` columns are not in the appropriate data type\n",
    "you can convert to `datetime` datatype using the `to_datetime()` method. After that is done, use the type attribute \n",
    "to confirm the datatype. "
   ]
  },
  {
   "cell_type": "markdown",
   "metadata": {},
   "source": [
    "#### To-Do - Use `to_datetime()` to convert the `date` column to `datetime`"
   ]
  },
  {
   "cell_type": "code",
   "execution_count": 24,
   "metadata": {},
   "outputs": [],
   "source": [
    "#[Write your Code Here]\n",
    "data[\"Date\"] = pd.to_datetime(data.Date)"
   ]
  },
  {
   "cell_type": "markdown",
   "metadata": {},
   "source": [
    "#### To-Do - Check the datatype to confirm if it's in `datetime`"
   ]
  },
  {
   "cell_type": "code",
   "execution_count": 25,
   "metadata": {},
   "outputs": [
    {
     "name": "stdout",
     "output_type": "stream",
     "text": [
      "The data type of the \"Date\" column after it's converted to a pandas datetime object is : datetime64[ns]\n"
     ]
    }
   ],
   "source": [
    "#[Write your Code Here]\n",
    "print(f\"The data type of the \\\"Date\\\" column after it's converted to a pandas datetime object is : {data.Date.dtype}\")"
   ]
  },
  {
   "cell_type": "markdown",
   "metadata": {},
   "source": [
    "#### To-Do - Repeat the two steps above to the `time` column"
   ]
  },
  {
   "cell_type": "code",
   "execution_count": 26,
   "metadata": {},
   "outputs": [],
   "source": [
    "#[Write your Code Here]\n",
    "data[\"Time\"] = pd.to_datetime(data.Time)"
   ]
  },
  {
   "cell_type": "code",
   "execution_count": 27,
   "metadata": {},
   "outputs": [
    {
     "name": "stdout",
     "output_type": "stream",
     "text": [
      "The data type of the \"Time\" column after it's converted to a pandas datetime object is : datetime64[ns]\n"
     ]
    }
   ],
   "source": [
    "print(f\"The data type of the \\\"Time\\\" column after it's converted to a pandas datetime object is : {data.Time.dtype}\")"
   ]
  },
  {
   "cell_type": "markdown",
   "metadata": {},
   "source": [
    "## Extract Features from date & time"
   ]
  },
  {
   "cell_type": "markdown",
   "metadata": {},
   "source": [
    "#### To-Do - Extract the Day feature from the `Date` column, and save to a new `Day` column"
   ]
  },
  {
   "cell_type": "code",
   "execution_count": 28,
   "metadata": {},
   "outputs": [],
   "source": [
    "#[Write your Code Here]\n",
    "data[\"Day\"] = data[\"Date\"].dt.day"
   ]
  },
  {
   "cell_type": "markdown",
   "metadata": {},
   "source": [
    "#### To-Do - Extract the Month feature from the `Date` column, and save to a new `Month` column"
   ]
  },
  {
   "cell_type": "code",
   "execution_count": 29,
   "metadata": {},
   "outputs": [],
   "source": [
    "#[Write your Code Here]\n",
    "data[\"Month\"] = data[\"Date\"].dt.month"
   ]
  },
  {
   "cell_type": "markdown",
   "metadata": {},
   "source": [
    "#### To-Do -Extract the Year feature from the `Date` column, and save to a new `Year` column  "
   ]
  },
  {
   "cell_type": "code",
   "execution_count": 30,
   "metadata": {},
   "outputs": [],
   "source": [
    "#[Write your Code Here]\n",
    "data[\"Year\"] = data[\"Date\"].dt.year"
   ]
  },
  {
   "cell_type": "markdown",
   "metadata": {},
   "source": [
    "#### To-Do - Extract the `Hour` feature from the `Time` column and save to a new `Hour` column"
   ]
  },
  {
   "cell_type": "code",
   "execution_count": 31,
   "metadata": {},
   "outputs": [],
   "source": [
    "#[Write your Code Here]\n",
    "data[\"Hour\"] = data[\"Time\"].dt.hour"
   ]
  },
  {
   "cell_type": "markdown",
   "metadata": {},
   "source": [
    "#### Pandas provide the `nunique()` method to get a count of unique values, while the `unique()` function is used to get unique values of Series object."
   ]
  },
  {
   "cell_type": "markdown",
   "metadata": {},
   "source": [
    "#### To-Do -  From the hours information, determine the numbers of unique hours of sales in the supermarket, and return an array of the hours using the unique() method"
   ]
  },
  {
   "cell_type": "code",
   "execution_count": 32,
   "metadata": {},
   "outputs": [
    {
     "name": "stdout",
     "output_type": "stream",
     "text": [
      "The number of hours which the Supermarket operates daily is : 11 hours.\n"
     ]
    }
   ],
   "source": [
    "#[Write your Code Here]\n",
    "print(f\"The number of hours which the Supermarket operates daily is : {len(data.Hour.unique())} hours.\")"
   ]
  },
  {
   "cell_type": "code",
   "execution_count": 33,
   "metadata": {},
   "outputs": [
    {
     "name": "stdout",
     "output_type": "stream",
     "text": [
      "The list of unique hours of sales in the during which the supermarket operates  is : \n",
      "[10, 11, 12, 13, 14, 15, 16, 17, 18, 19, 20]\n"
     ]
    }
   ],
   "source": [
    "#[Write your Code Here]\n",
    "print(\n",
    "    f\"The list of unique hours of sales in the during which the supermarket operates  is : \\n{sorted(data.Hour.unique())}\")"
   ]
  },
  {
   "cell_type": "markdown",
   "metadata": {},
   "source": [
    "## Step 4 - Unique Values in Columns"
   ]
  },
  {
   "cell_type": "markdown",
   "metadata": {},
   "source": [
    "With the line of code below, we can get a list of the categorical column in the dataset. We iterate through the columns and check if each element is an object datatype. The result is saved to the \"categorical_columns\" variable\n",
    "as a list."
   ]
  },
  {
   "cell_type": "code",
   "execution_count": 34,
   "metadata": {},
   "outputs": [
    {
     "data": {
      "text/plain": [
       "['Invoice ID',\n",
       " 'Branch',\n",
       " 'City',\n",
       " 'Customer type',\n",
       " 'Gender',\n",
       " 'Product line',\n",
       " 'Payment']"
      ]
     },
     "execution_count": 34,
     "metadata": {},
     "output_type": "execute_result"
    }
   ],
   "source": [
    "#Uncomment the code and Run it\n",
    "categorical_columns = [col for col in data.columns if data[col].dtype == \"object\" ]\n",
    "categorical_columns"
   ]
  },
  {
   "cell_type": "markdown",
   "metadata": {},
   "source": [
    "#### To-Do- From the information above, generate the unique values in the categorical columns (apart from the example - Branch column).\n",
    "For example, the unique values of the \"Branch\" column is displayed in list, as shown below.\n",
    "<br/>\n",
    "`df['Branch'].unique().tolist()\n",
    "['B', 'C', 'A']`\n",
    "</br>\n",
    "<br/>\n",
    "You can add print formating syntax to print out the total numbers of these values in a particular column. "
   ]
  },
  {
   "cell_type": "code",
   "execution_count": 35,
   "metadata": {},
   "outputs": [
    {
     "data": {
      "text/plain": [
       "['B', 'A', 'C']"
      ]
     },
     "execution_count": 35,
     "metadata": {},
     "output_type": "execute_result"
    }
   ],
   "source": [
    "#Example - Uncomment the Code and Run it\n",
    "data['Branch'].unique().tolist()"
   ]
  },
  {
   "cell_type": "code",
   "execution_count": 36,
   "metadata": {},
   "outputs": [
    {
     "name": "stdout",
     "output_type": "stream",
     "text": [
      "Total Number of unique values in the Branch Column : 3\n"
     ]
    }
   ],
   "source": [
    "print(\"Total Number of unique values in the Branch Column : {}\". format(len(data['Branch'].unique().tolist())))"
   ]
  },
  {
   "cell_type": "code",
   "execution_count": 37,
   "metadata": {},
   "outputs": [],
   "source": [
    "#[Write Your Code Here]\n",
    "def get_column_details(df, required_columns, unwanted_column = None) :\n",
    "    \n",
    "    \"\"\"\n",
    "    This function takes as input a DataFrame, \n",
    "    the required columns (in form of a list for multiple values or a string for single value),\n",
    "    and the unwnated column as a string, if required.\n",
    "    Then, it prints out the details of each column of the DataFrtame provided in the list as the output\n",
    "    \"\"\"\n",
    "    \n",
    "    required_columns = list(required_columns)\n",
    "    # The line of code above assumes that you have verified the columns are of Object data type\n",
    "    # It also ensures the value of the 'required_columns' is a list by converting to a list.\n",
    "    # sometimes, the user might enter a single column\n",
    "    # If an unwanted column is specified, the IF line part of code executes\n",
    "    # If there is no unwanted column specified, the ELSE part of the code executes\n",
    "    if unwanted_column != None :\n",
    "        for column in required_columns :\n",
    "            if column == unwanted_column :\n",
    "                continue\n",
    "            else :\n",
    "                print(f\"\\t\\t{column.upper()} Column\")\n",
    "                print(list(data[column].unique()))\n",
    "                print(f\"Total Number of unique values in the {column} Column is: {len(data[column].unique())}\\n\")\n",
    "    \n",
    "    else :\n",
    "        for column in required_columns :\n",
    "            print(f\"\\t\\t{column.upper()} Column\")\n",
    "            print(list(data[column].unique()))\n",
    "            print(f\"Total Number of unique values in the {column} Column is: {len(data[column].unique())}\\n\")"
   ]
  },
  {
   "cell_type": "code",
   "execution_count": 38,
   "metadata": {},
   "outputs": [
    {
     "name": "stdout",
     "output_type": "stream",
     "text": [
      "\t\tINVOICE ID Column\n",
      "['692-92-5582', '351-62-0822', '529-56-3974', '299-46-1805', '319-50-3348', '371-85-5789', '273-16-6619', '649-29-6775', '145-94-9061', '871-79-8483', '149-71-6266', '640-49-2076', '777-82-7220', '280-35-5823', '354-25-5821', '132-32-9879', '370-41-7321', '727-46-3608', '669-54-1719', '616-24-2851', '242-55-6721', '347-34-2234', '853-23-2453', '109-28-2512', '510-95-6347', '847-38-7188', '318-68-5053', '152-08-9985', '766-85-7061', '733-01-9107', '716-39-1409', '479-26-8945', '227-78-1148', '291-32-1427', '659-65-8956', '378-24-2715', '219-22-9386', '268-27-6179', '549-84-7482', '191-10-6171', '695-51-0018', '590-83-4591', '241-72-9525', '262-47-2794', '608-96-3517', '279-74-2924', '307-85-2293', '743-04-1105', '423-57-2993', '548-46-9322', '505-02-0892', '316-55-4634', '608-27-6295', '414-12-7047', '895-66-0685', '305-14-0245', '732-04-5373', '284-34-9626', '437-58-8131', '641-43-2399', '542-41-0513', '875-46-5808', '394-43-4238', '573-58-9734', '817-69-8206', '142-63-6033', '656-16-1063', '891-58-8335', '560-30-5617', '549-03-9315', '790-29-1172', '239-36-3640', '468-01-2051', '836-82-5858', '466-61-5506', '289-65-5721', '545-46-3100', '418-02-5978', '269-04-5750', '346-84-3103', '376-02-8238', '866-05-7563', '785-13-7708', '845-51-0542', '110-48-7033', '655-85-5130', '154-74-7179', '571-94-0759', '783-09-1637', '477-24-6490', '566-19-5475', '498-41-1961', '283-79-9594', '139-20-0155', '585-03-5943', '573-10-3877', '396-90-2219', '532-59-7201', '276-54-0879', '730-61-8757', '868-81-1752', '692-27-8933', '374-17-3652', '378-07-7001', '433-75-6987', '873-95-4984', '400-45-1220', '115-99-4379', '565-67-6697', '889-04-9723', '453-63-6187', '578-80-7669', '201-86-2184', '261-12-8671', '843-01-4703', '182-69-8360', '868-52-7573', '525-88-7307', '596-42-3999', '173-82-9529', '760-54-1821', '793-10-3222', '346-12-3257', '831-64-0259', '725-32-9708', '244-08-0162', '569-71-4390', '268-03-6164', '848-07-1692', '301-81-8610', '198-84-7132', '650-98-6268', '741-73-3559', '286-75-7818', '616-87-0016', '837-55-7229', '394-30-3170', '390-80-5128', '296-11-7041', '449-27-2918', '891-01-7034', '744-09-5786', '767-54-1907', '710-46-4433', '533-33-5337', '234-03-4040', '554-53-3790', '731-59-7531', '701-69-8742', '305-18-3552', '438-01-4015', '709-58-4068', '627-95-3243', '686-41-0932', '608-04-3797', '437-53-3084', '632-32-4574', '401-18-8016', '277-63-2961', '282-35-2475', '511-54-3087', '387-49-4215', '862-17-9201', '291-21-5991', '347-72-6115', '425-85-2085', '734-91-1155', '286-62-6248', '339-38-9982', '827-44-5872', '857-67-9057', '339-12-4827', '173-50-1108', '841-18-8232', '701-23-5550', '539-21-7227', '747-58-7183', '582-52-8065', '210-57-1719', '356-44-8813', '198-66-9832', '174-75-0888', '134-54-4720', '514-37-2845', '241-11-2261', '834-83-1826', '343-61-3544', '355-34-6244', '339-96-8318', '458-61-0011', '207-73-1363', '359-90-3665', '375-72-3056', '585-11-6748', '470-31-3286', '642-30-6693', '830-58-2383', '349-97-8902', '789-23-8625', '327-40-9673', '670-79-6321', '852-62-7105', '598-06-7312', '135-13-8269', '628-90-8624', '420-04-7590', '182-88-2763', '188-55-0967', '364-33-8584', '665-63-9737', '695-09-5146', '794-32-2436', '574-31-8277', '369-82-2676', '563-47-4072', '149-15-7606', '133-77-3154', '322-02-2271', '725-67-2480', '779-42-2410', '190-14-3147', '679-22-6530', '642-61-4706', '576-31-4774', '242-11-3142', '752-23-3760', '528-87-5606', '320-85-2052', '510-79-0415', '241-96-5076', '767-97-4650', '826-58-8051', '176-64-7711', '191-29-0321', '729-06-2010', '640-48-5028', '186-79-9562', '834-45-5519', '821-14-9046', '418-05-0656', '776-68-1096', '434-35-9162', '174-64-0215', '299-29-0180', '438-23-1242', '238-45-6950', '197-77-7132', '457-13-1708', '487-79-6868', '210-30-7976', '775-72-1988', '785-96-0615', '842-40-8179', '525-09-8450', '593-14-4239', '388-76-2555', '711-31-1234', '707-32-7409', '120-54-2248', '875-31-8302', '457-94-0464', '744-16-7898', '605-83-1050', '359-94-5395', '751-15-6198', '831-81-6575', '559-61-5987', '565-91-4567', '499-27-7781', '869-11-3082', '190-59-3964', '366-43-6862', '109-86-4363', '222-42-0244', '636-17-0325', '343-75-9322', '427-45-9297', '670-71-7306', '291-59-1384', '866-70-2814', '895-03-6665', '770-42-8960', '234-36-2483', '152-03-4217', '533-66-5566', '361-59-0574', '544-55-9589', '608-05-3804', '761-49-0439', '490-95-0021', '311-13-6971', '114-35-5271', '715-20-1673', '811-35-1094', '699-88-1972', '509-10-0516', '851-98-3555', '624-01-8356', '313-66-9943', '777-67-2495', '636-98-3364', '181-82-6255', '226-34-0034', '321-49-7382', '431-66-2305', '825-94-5922', '641-62-7288', '501-61-1753', '676-10-2200', '365-16-4334', '503-21-4385', '305-89-2768', '574-80-1489', '200-40-6154', '430-02-3888', '794-42-3736', '172-42-8274', '214-30-2776', '746-04-1077', '448-34-8700', '452-04-8808', '883-69-1285', '518-71-6847', '156-20-0370', '151-33-7434', '374-38-5555', '764-44-8999', '552-44-5977', '430-53-4718', '602-16-6955', '690-01-6631', '303-96-2227', '750-67-8428', '631-41-3108', '123-19-1176', '373-73-7910', '355-53-5943', '665-32-9167', '365-64-0515', '252-56-2699', '829-34-3910', '656-95-9349', '765-26-6951', '329-62-1586', '636-48-8204', '549-59-1358', '227-03-5010', '189-17-4241', '848-62-7243', '595-11-5460', '129-29-8530', '272-65-1806', '162-48-8011', '106-35-6779', '635-40-6220', '817-48-8732', '199-75-8169', '877-22-3308', '232-11-3025', '382-03-4532', '287-21-9091', '381-20-0914', '633-44-8566', '504-35-8843', '873-51-0671', '594-34-4444', '865-92-6136', '212-62-1842', '704-48-3927', '630-74-5166', '645-44-1170', '642-32-2990', '638-60-7125', '668-90-8900', '870-54-3162', '802-70-5316', '700-81-1757', '354-39-5160', '575-30-8091', '239-10-7476', '685-64-1609', '238-49-0436', '746-94-0204', '782-95-9291', '275-28-0149', '101-17-6199', '687-47-8271', '796-32-9050', '105-31-1824', '249-42-3782', '827-26-2100', '175-54-2529', '407-63-8975', '851-28-6367', '586-25-0848', '400-60-7251', '831-07-6050', '856-22-8149', '749-24-1565', '888-02-0338', '802-43-8934', '319-74-2561', '213-72-6612', '721-86-6247', '157-13-5295', '645-78-8093', '478-06-7835', '540-11-4336', '448-81-5016', '217-58-1179', '530-90-9855', '604-70-6476', '799-71-1548', '290-68-2984', '704-11-6354', '366-93-0948', '729-09-9681', '151-16-1484', '850-41-9669', '447-15-7839', '253-12-6086', '144-51-6085', '731-14-2199', '126-54-1082', '633-91-1052', '828-61-5674', '136-08-6195', '490-29-1201', '667-92-0055', '565-17-3836', '430-60-3493', '278-97-7759', '316-68-6352', '744-02-5987', '307-83-9164', '439-54-7422', '411-77-0180', '286-01-5402', '803-17-8013', '512-98-1403', '848-42-2560', '870-76-1733', '423-64-4619', '372-94-8041', '563-91-7120', '746-54-5508', '815-11-1168', '340-66-0321', '634-97-8956', '566-71-1091', '442-48-3607', '527-09-6272', '898-04-2717', '150-89-8043', '135-84-8019', '441-94-7118', '531-80-1784', '834-61-8124', '612-36-5536', '462-67-9126', '468-88-0009', '254-31-0042', '422-29-8786', '667-23-5919', '289-15-7034', '662-72-2873', '725-56-0833', '563-36-9814', '308-47-4913', '885-17-6250', '726-27-2396', '316-01-3952', '882-40-4577', '732-67-5346', '256-08-8343', '132-23-6451', '696-90-2548', '472-15-9636', '745-71-3520', '269-10-8440', '325-77-6186', '459-50-7686', '345-08-4992', '138-17-5109', '301-11-9629', '727-17-0390', '568-88-3448', '187-83-5490', '470-32-9057', '340-21-9136', '405-31-3305', '676-39-6028', '502-05-1910', '485-30-8700', '575-67-1508', '674-15-9296', '795-49-7276', '510-09-5628', '420-18-8989', '726-29-6793', '209-61-0206', '595-27-4851', '189-52-0236', '220-28-1851', '609-81-8548', '534-01-4457', '719-89-8991', '827-77-7633', '287-83-1405', '435-13-4908', '892-05-6689', '643-38-7867', '308-81-0538', '460-35-4390', '647-50-1224', '541-48-8554', '213-32-1216', '134-75-2619', '712-39-0363', '218-59-9410', '760-90-2357', '698-98-5964', '651-88-7328', '239-48-4278', '550-84-8664', '797-88-0493', '443-82-0585', '127-47-6963', '278-86-2735', '695-28-6250', '227-50-3718', '560-49-6611', '880-35-0356', '152-68-2907', '334-64-2006', '559-98-9873', '318-12-0304', '421-95-9805', '443-59-0061', '509-29-3912', '828-46-6863', '420-97-3340', '436-54-4512', '816-57-2053', '856-66-2701', '308-39-1707', '149-61-1929', '655-07-2265', '589-02-8023', '610-46-4100', '706-36-6154', '742-04-5161', '169-52-4504', '562-12-5430', '816-72-8853', '491-38-3499', '518-17-2983', '588-47-8641', '811-03-8790', '274-05-5470', '130-67-4723', '105-10-6182', '648-83-1321', '305-03-2383', '689-05-1884', '800-09-8606', '182-52-7000', '868-06-0466', '445-30-9252', '786-94-2700', '258-92-7466', '857-16-3520', '482-17-1179', '788-21-5741', '247-11-2470', '635-28-5728', '756-49-0168', '805-86-0265', '373-14-0504', '546-80-2899', '585-86-8361', '807-14-7833', '652-43-6591', '406-46-7107', '250-17-5703', '156-95-3964', '410-67-1709', '587-73-4862', '787-87-2010', '886-54-6089', '534-53-3526', '307-04-2070', '404-91-5964', '497-37-6538', '651-96-5970', '263-12-5321', '702-72-0487', '864-24-7918', '759-29-9521', '220-68-6701', '618-34-8551', '257-60-7754', '380-60-5336', '674-56-6360', '778-34-2523', '832-51-6761', '186-43-8965', '276-75-6884', '569-76-2760', '760-53-9233', '416-17-9926', '237-44-6163', '528-14-9470', '807-34-3742', '288-62-1085', '497-36-0989', '860-73-6466', '896-34-0956', '804-38-3935', '585-90-0249', '125-45-2293', '843-73-4724', '409-33-9708', '160-22-2687', '748-45-2862', '316-66-3011', '840-76-5966', '124-31-1458', '852-82-2749', '873-14-6353', '166-19-2553', '737-88-5876', '448-61-3783', '291-55-6563', '548-48-3156', '460-93-5834', '325-89-4209', '884-80-6021', '880-46-5796', '146-09-5432', '595-94-9924', '865-41-9075', '186-71-5196', '453-33-6436', '522-57-8364', '459-45-2396', '749-81-8133', '397-25-8725', '243-55-8457', '361-85-2571', '131-70-8179', '720-72-2436', '809-69-9497', '449-16-6770', '333-23-2632', '489-82-1237', '846-10-0341', '384-59-6655', '324-92-3863', '593-08-5916', '558-60-5016', '195-06-0432', '605-03-2706', '531-56-4728', '221-25-5073', '809-46-1866', '139-32-4183', '886-18-2897', '745-74-0715', '727-02-1313', '347-56-2442', '849-09-3807', '226-31-3081', '699-14-3026', '315-22-5665', '300-71-4605', '183-56-6882', '232-16-2483', '333-73-7901', '554-53-8700', '228-96-1411', '617-15-4209', '574-22-5561', '326-78-5178', '778-71-5554', '399-46-5918', '120-06-4233', '285-68-5083', '803-83-5989', '838-78-4295', '393-65-2792', '796-12-2025', '841-35-6630', '732-94-0499', '263-10-3913', '829-49-1914', '756-01-7507', '870-72-4431', '480-63-2856', '787-56-0757', '360-39-5055', '730-50-9884', '362-58-8315', '565-80-5980', '225-32-0908', '512-91-0811', '871-39-9221', '163-56-7055', '189-98-2939', '551-21-3069', '628-34-3388', '588-01-7461', '861-77-0145', '210-67-5886', '237-01-6122', '225-98-1496', '659-36-1684', '336-78-2147', '189-08-9157', '663-86-9076', '483-71-1164', '597-78-7908', '731-81-9469', '280-17-4359', '338-65-2210', '488-25-4221', '458-41-1477', '568-90-5112', '584-86-7256', '214-17-6927', '400-89-4171', '894-41-5205', '423-80-0988', '234-65-2137', '733-33-4967', '139-52-2867', '342-65-4817', '130-98-8941', '434-83-9547', '824-88-3614', '593-65-1552', '286-43-6208', '556-86-3144', '848-24-9445', '699-01-4164', '420-11-4919', '606-80-4905', '426-39-2418', '672-51-8681', '263-87-5680', '677-11-0152', '389-25-3394', '279-62-1445', '746-68-6593', '583-72-1480', '211-30-9270', '755-12-3214', '142-72-4741', '662-47-5456', '883-17-4236', '380-94-4661', '821-07-3596', '808-65-0703', '687-15-1097', '526-86-8552', '376-56-3573', '537-72-0426', '523-38-0215', '593-95-4461', '226-71-3580', '558-80-4082', '211-05-0490', '727-75-6477', '779-06-0012', '446-47-6729', '735-06-4124', '181-94-6432', '227-07-4446', '174-36-3675', '428-83-5800', '603-07-0961', '704-20-4138', '787-15-1757', '649-11-3678', '622-20-1945', '719-76-3868', '835-16-0096', '633-09-3463', '416-13-5917', '725-96-3778', '860-79-0874', '320-49-6392', '632-90-0281', '554-42-2417', '605-72-4132', '471-41-2823', '272-27-9238', '834-25-9262', '122-61-9553', '613-59-9758', '730-70-9830', '382-25-8917', '743-88-1662', '595-86-2894', '462-78-5240', '153-58-4872', '689-16-9784', '394-41-0748', '541-89-9860', '110-05-6330', '651-61-0874', '236-86-3015', '587-03-7455', '372-26-1506', '750-57-9686', '186-09-3669', '266-76-6436', '740-22-2500', '271-88-8734', '489-64-4354', '574-57-9721', '751-69-0068', '257-73-1380', '549-96-4200', '810-60-6344', '450-28-2866', '192-98-7397', '235-46-8343', '453-12-7053', '325-90-8763', '729-46-7422', '639-76-1242', '326-71-2155', '320-32-8842', '878-30-2331', '440-59-5691', '746-19-0921', '233-34-0817', '767-05-1286', '598-47-9715', '541-08-3113', '246-11-3901', '493-65-6248', '556-72-8512', '148-82-2527', '556-97-7101', '862-59-8517', '573-98-8548', '620-02-2046', '602-80-9671', '503-07-0930', '413-20-6708', '521-18-7827', '600-38-9738', '451-28-5717', '133-14-7229', '236-27-1144', '583-41-4548', '358-88-9262', '343-87-0864', '243-47-2663', '399-69-4630', '283-26-5248', '866-99-7614', '718-57-9773', '408-26-9866', '592-34-6155', '390-31-6381', '339-18-7061', '379-17-6588', '302-15-2162', '788-07-8452', '123-35-4896', '258-69-7810', '219-61-4139', '881-41-7302', '373-09-4567', '484-22-8230', '544-32-5024', '277-35-5865', '284-54-4231', '840-19-2096', '641-96-3695', '318-81-2368', '155-45-3814', '131-15-8856', '273-84-2164', '778-89-7974', '859-71-0933', '740-11-5257', '250-81-7186', '842-29-4695', '641-51-2661', '714-02-3114', '408-66-6712', '556-41-6224', '648-94-3045', '370-96-0655', '173-57-2300', '394-55-6384', '266-20-6657', '196-01-2849', '372-62-5264', '751-41-9720', '626-43-7888', '162-65-8559', '760-27-5490', '728-88-7867', '183-21-3799', '268-20-3585', '735-32-9839', '678-79-0726', '592-46-1692', '149-14-0304', '442-44-6497', '210-74-9613', '607-65-2441', '386-27-7606', '137-63-5492', '733-29-1227', '451-73-2711', '345-68-9016', '390-17-5806', '664-14-2882', '314-23-4520', '288-38-3758', '801-88-0346', '759-98-4285', '201-63-8275', '471-06-8611', '200-16-5952', '102-77-2261', '102-06-2002', '629-42-4133', '468-99-7231', '516-77-6464', '886-77-9084', '790-38-4466', '704-10-4056', '400-80-4065', '443-60-9639', '401-09-4232', '324-41-6833', '474-33-8305', '189-55-2313', '815-04-6282', '477-59-2456', '784-21-9238', '538-22-0304', '660-29-7083', '271-77-8740', '549-23-9016', '862-29-5914', '845-94-6841', '658-66-3967', '848-95-6252', '176-78-1170', '101-81-4070', '631-34-1880', '584-66-4073', '154-87-7367', '885-56-0389', '115-38-7388', '137-74-8729', '389-70-2397', '607-76-6216', '781-84-8059', '409-49-6995', '725-54-0677', '377-79-7592', '545-07-8534', '118-62-1812', '450-42-3339', '151-27-8496', '717-96-4189', '722-13-2115', '246-55-6923', '838-02-1821', '887-42-0517', '457-12-0244', '756-93-1854', '458-10-8612', '235-06-8510', '433-08-7822', '500-02-2261', '702-83-5291', '859-97-6048', '373-88-1424', '784-08-0310', '577-34-7579', '867-47-1948', '256-58-3609', '364-34-2972', '744-82-9138', '728-47-9078', '148-41-7930', '189-40-5216', '267-62-7380', '652-49-6720', '233-67-5758']\n",
      "Total Number of unique values in the Invoice ID Column is: 1000\n",
      "\n",
      "\t\tCITY Column\n",
      "['Abuja', 'Lagos', 'Port Harcourt']\n",
      "Total Number of unique values in the City Column is: 3\n",
      "\n",
      "\t\tCUSTOMER TYPE Column\n",
      "['Member', 'Normal']\n",
      "Total Number of unique values in the Customer type Column is: 2\n",
      "\n",
      "\t\tGENDER Column\n",
      "['Female', 'Male']\n",
      "Total Number of unique values in the Gender Column is: 2\n",
      "\n",
      "\t\tPRODUCT LINE Column\n",
      "['Food and beverages', 'Fashion accessories', 'Electronic accessories', 'Sports and travel', 'Home and lifestyle', 'Health and beauty']\n",
      "Total Number of unique values in the Product line Column is: 6\n",
      "\n",
      "\t\tPAYMENT Column\n",
      "['Card', 'Epay', 'Cash']\n",
      "Total Number of unique values in the Payment Column is: 3\n",
      "\n"
     ]
    }
   ],
   "source": [
    "get_column_details(data, categorical_columns, \"Branch\")"
   ]
  },
  {
   "cell_type": "markdown",
   "metadata": {},
   "source": [
    "#### To-Do: The `value_counts()` function is used to get a Series containing counts of unique values. For the categorical columns above, generate the count figure of the values using the `value_counts() ` method.\n"
   ]
  },
  {
   "cell_type": "code",
   "execution_count": 39,
   "metadata": {},
   "outputs": [
    {
     "data": {
      "text/plain": [
       "Lagos            340\n",
       "Abuja            332\n",
       "Port Harcourt    328\n",
       "Name: City, dtype: int64"
      ]
     },
     "execution_count": 39,
     "metadata": {},
     "output_type": "execute_result"
    }
   ],
   "source": [
    "#Example\n",
    "data['City'].value_counts()"
   ]
  },
  {
   "cell_type": "code",
   "execution_count": 40,
   "metadata": {},
   "outputs": [],
   "source": [
    "def get_value_counts(df, required_columns, unwanted_column = None) :\n",
    "    \n",
    "    \"\"\"\n",
    "    This function takes as input a DataFrame, \n",
    "    the required columns (in form of a list for multiple values or a string for single value),\n",
    "    and the unwnated column as a string, if required.\n",
    "    Then, it prints out the value counts of each column of the DataFrtame provided in the list as the output\n",
    "    \"\"\"\n",
    "    required_columns = list(required_columns)\n",
    "    # It ensures the value of the 'required_columns' is a list by converting to a list.\n",
    "    # sometimes, the user might enter a single column\n",
    "    # If an unwanted column is specified, the IF line part of code executes\n",
    "    # If there is no unwanted column specified, the ELSE part of the code executes\n",
    "    if unwanted_column != None :\n",
    "        for column in required_columns :\n",
    "            if column == unwanted_column :\n",
    "                continue\n",
    "            else :\n",
    "                print(f\"\\t\\t{column.upper()} Column\")\n",
    "                print(f\"{df[column].value_counts()}\\n\")\n",
    "    else :\n",
    "        for column in required_columns :\n",
    "            print(f\"\\t\\t{column.upper()} Column\")\n",
    "            print(f\"{df[column].value_counts()}\\n\")"
   ]
  },
  {
   "cell_type": "code",
   "execution_count": 41,
   "metadata": {},
   "outputs": [
    {
     "name": "stdout",
     "output_type": "stream",
     "text": [
      "\t\tINVOICE ID Column\n",
      "689-16-9784    1\n",
      "234-03-4040    1\n",
      "237-44-6163    1\n",
      "282-35-2475    1\n",
      "794-42-3736    1\n",
      "              ..\n",
      "183-56-6882    1\n",
      "886-54-6089    1\n",
      "497-37-6538    1\n",
      "843-73-4724    1\n",
      "633-44-8566    1\n",
      "Name: Invoice ID, Length: 1000, dtype: int64\n",
      "\n",
      "\t\tBRANCH Column\n",
      "A    340\n",
      "B    332\n",
      "C    328\n",
      "Name: Branch, dtype: int64\n",
      "\n",
      "\t\tCUSTOMER TYPE Column\n",
      "Member    501\n",
      "Normal    499\n",
      "Name: Customer type, dtype: int64\n",
      "\n",
      "\t\tGENDER Column\n",
      "Female    501\n",
      "Male      499\n",
      "Name: Gender, dtype: int64\n",
      "\n",
      "\t\tPRODUCT LINE Column\n",
      "Fashion accessories       178\n",
      "Food and beverages        174\n",
      "Electronic accessories    170\n",
      "Sports and travel         166\n",
      "Home and lifestyle        160\n",
      "Health and beauty         152\n",
      "Name: Product line, dtype: int64\n",
      "\n",
      "\t\tPAYMENT Column\n",
      "Epay    345\n",
      "Cash    344\n",
      "Card    311\n",
      "Name: Payment, dtype: int64\n",
      "\n"
     ]
    }
   ],
   "source": [
    "get_value_counts(data, categorical_columns, \"City\")"
   ]
  },
  {
   "cell_type": "markdown",
   "metadata": {},
   "source": [
    "## Step 5 - Aggregration with GroupBy"
   ]
  },
  {
   "cell_type": "markdown",
   "metadata": {},
   "source": [
    "#### To-Do - Your task here, will be to create a groupby object with the \"City Column\", and aggregation function of sum and mean. "
   ]
  },
  {
   "cell_type": "code",
   "execution_count": 42,
   "metadata": {},
   "outputs": [],
   "source": [
    "#[Write your Code Here]\n",
    "city_group = data.groupby(\"City\").agg([\"sum\", \"mean\"])"
   ]
  },
  {
   "cell_type": "markdown",
   "metadata": {},
   "source": [
    "#### To-Do - Using the groupby object, display a table that shows the gross income of each city, and determine the city with the highest total gross income."
   ]
  },
  {
   "cell_type": "code",
   "execution_count": 43,
   "metadata": {},
   "outputs": [],
   "source": [
    "#[Write your Code Here]\n",
    "gross_income_group = pd.DataFrame(data.groupby(\"City\")[\"Total\"].sum())"
   ]
  },
  {
   "cell_type": "code",
   "execution_count": 44,
   "metadata": {},
   "outputs": [
    {
     "data": {
      "text/plain": [
       "Total    Port Harcourt\n",
       "dtype: object"
      ]
     },
     "execution_count": 44,
     "metadata": {},
     "output_type": "execute_result"
    }
   ],
   "source": [
    "# [Write your Answer Here]\n",
    "gross_income_group.idxmax()"
   ]
  },
  {
   "cell_type": "code",
   "execution_count": 45,
   "metadata": {},
   "outputs": [
    {
     "data": {
      "text/plain": [
       "['Unit price',\n",
       " 'Quantity',\n",
       " 'Tax 5%',\n",
       " 'Total',\n",
       " 'cogs',\n",
       " 'gross margin percentage',\n",
       " 'gross income',\n",
       " 'Rating',\n",
       " 'Day',\n",
       " 'Month',\n",
       " 'Year',\n",
       " 'Hour']"
      ]
     },
     "execution_count": 45,
     "metadata": {},
     "output_type": "execute_result"
    }
   ],
   "source": [
    "# Optional - You can explore other columns such as \"Unit Price\", \"Quantity\" etc. \n",
    "numerical_columns = [col for col in data.columns if data[col].dtype not in [\"object\",  \"datetime64[ns]\"]]\n",
    "numerical_columns"
   ]
  },
  {
   "cell_type": "code",
   "execution_count": 46,
   "metadata": {},
   "outputs": [],
   "source": [
    "def group_data_get_idxmax(df, required_columns, groupby_column, unwanted_column = None) :\n",
    "    \n",
    "    \"\"\"\n",
    "    This function takes as input a DataFrame, \n",
    "    the required columns (in form of a list for multiple values or a string for single value),\n",
    "    the column by which the DataFrame is to be grouped\n",
    "    and the unwnated column as a string, if required.\n",
    "    \n",
    "    It performs a groupby operation on the DataFrame, \n",
    "    and converts the output into a DataFrame\n",
    "    Then, gets the index value of Maximum item in the DataFrame\n",
    "    \n",
    "    Then, it prints out the index value of maximum item in the groupby DataFrame as the output\n",
    "    \"\"\"\n",
    "    required_columns = list(required_columns)\n",
    "    if unwanted_column != None :\n",
    "        for column in required_columns :\n",
    "            if column == unwanted_column :\n",
    "                continue\n",
    "            else :\n",
    "                grouped_object = f\"{column}_group\"\n",
    "                grouped_object =  pd.DataFrame(df.groupby(groupby_column)[column].sum())\n",
    "                print(f\"\\tRESULTS OF {groupby_column} grouping and  \\\"{column}\\\"  extract\")\n",
    "                print(f\"The City with the Highest value of {column} is : {grouped_object.idxmax().values[0]}\\n\")\n",
    "                \n",
    "    else :\n",
    "        for column in required_columns :\n",
    "            grouped_object = f\"{column}_group\"\n",
    "            grouped_object =  pd.DataFrame(df.groupby(groupby_column)[column].sum())\n",
    "            print(f\"\\tRESULTS OF {groupby_column} grouping and  \\\"{column}\\\"  extract\")\n",
    "            print(f\"The City with the Highest value of {column} is : {grouped_object.idxmax().values[0]}\\n\")"
   ]
  },
  {
   "cell_type": "code",
   "execution_count": 47,
   "metadata": {},
   "outputs": [
    {
     "name": "stdout",
     "output_type": "stream",
     "text": [
      "\tRESULTS OF City grouping and  \"Unit price\"  extract\n",
      "The City with the Highest value of Unit price is : Lagos\n",
      "\n",
      "\tRESULTS OF City grouping and  \"Quantity\"  extract\n",
      "The City with the Highest value of Quantity is : Lagos\n",
      "\n",
      "\tRESULTS OF City grouping and  \"Tax 5%\"  extract\n",
      "The City with the Highest value of Tax 5% is : Port Harcourt\n",
      "\n",
      "\tRESULTS OF City grouping and  \"cogs\"  extract\n",
      "The City with the Highest value of cogs is : Port Harcourt\n",
      "\n",
      "\tRESULTS OF City grouping and  \"gross margin percentage\"  extract\n",
      "The City with the Highest value of gross margin percentage is : Lagos\n",
      "\n",
      "\tRESULTS OF City grouping and  \"gross income\"  extract\n",
      "The City with the Highest value of gross income is : Port Harcourt\n",
      "\n",
      "\tRESULTS OF City grouping and  \"Rating\"  extract\n",
      "The City with the Highest value of Rating is : Lagos\n",
      "\n",
      "\tRESULTS OF City grouping and  \"Day\"  extract\n",
      "The City with the Highest value of Day is : Lagos\n",
      "\n",
      "\tRESULTS OF City grouping and  \"Month\"  extract\n",
      "The City with the Highest value of Month is : Lagos\n",
      "\n",
      "\tRESULTS OF City grouping and  \"Year\"  extract\n",
      "The City with the Highest value of Year is : Lagos\n",
      "\n",
      "\tRESULTS OF City grouping and  \"Hour\"  extract\n",
      "The City with the Highest value of Hour is : Abuja\n",
      "\n"
     ]
    }
   ],
   "source": [
    "group_data_get_idxmax(data, numerical_columns, \"City\", \"Total\")"
   ]
  },
  {
   "cell_type": "markdown",
   "metadata": {},
   "source": [
    "## Step 6 - Data Visualization"
   ]
  },
  {
   "cell_type": "markdown",
   "metadata": {},
   "source": [
    "In this section, you will provide answer to some questions by generating charts and making use of different plotting styles. You will use the `Seaborn visualization` library to generate your plots. For all visualizations, include a chart title by using the seaborn `set_title` method"
   ]
  },
  {
   "cell_type": "markdown",
   "metadata": {},
   "source": [
    "#### To-Do- Using `countplot`, determine the branch with the highest sales record. Optional - You can extend this to determine - most used payment method, city with the most sales"
   ]
  },
  {
   "cell_type": "code",
   "execution_count": 48,
   "metadata": {},
   "outputs": [
    {
     "data": {
      "image/png": "[encoded data removed]",
      "text/plain": [
       "<Figure size 288x432 with 1 Axes>"
      ]
     },
     "metadata": {},
     "output_type": "display_data"
    }
   ],
   "source": [
    "#[Write your Code Here]\n",
    "fig, ax = plt.subplots(figsize = (4, 6))\n",
    "sns.countplot(x = \"Branch\", data = data, order = ['A', 'B', 'C']).set_title(\"Sales Record\");"
   ]
  },
  {
   "cell_type": "markdown",
   "metadata": {},
   "source": [
    "#### Explore a countplot for the `Payment` and `City` Column"
   ]
  },
  {
   "cell_type": "code",
   "execution_count": 49,
   "metadata": {},
   "outputs": [
    {
     "data": {
      "image/png": "[encoded data removed]",
      "text/plain": [
       "<Figure size 288x432 with 1 Axes>"
      ]
     },
     "metadata": {},
     "output_type": "display_data"
    }
   ],
   "source": [
    "fig, ax = plt.subplots(figsize = (4, 6))\n",
    "sns.countplot(x = \"City\", data = data, order = ['Lagos', 'Abuja', 'Port Harcourt']).set_title(\"City Sales Summary\");"
   ]
  },
  {
   "cell_type": "markdown",
   "metadata": {},
   "source": [
    "#### To-Do - Determine the highest & lowest sold product line, using Countplot \n",
    "Count Plot Tips- Set the `Product line` column to y-axis to prevent congestion on the x-axis"
   ]
  },
  {
   "cell_type": "code",
   "execution_count": 50,
   "metadata": {},
   "outputs": [
    {
     "data": {
      "image/png": "[encoded data removed]",
      "text/plain": [
       "<Figure size 288x432 with 1 Axes>"
      ]
     },
     "metadata": {},
     "output_type": "display_data"
    }
   ],
   "source": [
    "fig, ax = plt.subplots(figsize = (4, 6))\n",
    "sns.countplot(x = \"Payment\", data = data, order = ['Epay', 'Cash', 'Card']).set_title(\"Payment Methods\");"
   ]
  },
  {
   "cell_type": "markdown",
   "metadata": {},
   "source": [
    "#### To-Do -  Determine the Payment channel used by most customer to pay for each product line. Count Plot Tips- Set the \"product line\" column to y-axis to prevent congestion on the x-axis, and use the \"hue\" parameter for the \"Payment\" column. "
   ]
  },
  {
   "cell_type": "code",
   "execution_count": 51,
   "metadata": {},
   "outputs": [
    {
     "data": {
      "image/png": "[encoded data removed]",
      "text/plain": [
       "<Figure size 1080x432 with 1 Axes>"
      ]
     },
     "metadata": {},
     "output_type": "display_data"
    }
   ],
   "source": [
    "#[Write your Code Here]\n",
    "fig, ax = plt.subplots(figsize = (15, 6))\n",
    "sns.countplot(y = \"Product line\", data = data, order = \n",
    "              ['Fashion accessories', 'Food and beverages', 'Electronic accessories', 'Sports and travel', \n",
    "               'Home and lifestyle', 'Health and beauty']\n",
    "             ).set_title(\"Product Line Summary\");"
   ]
  },
  {
   "cell_type": "code",
   "execution_count": 52,
   "metadata": {},
   "outputs": [],
   "source": [
    "#[Write your Code Here]"
   ]
  },
  {
   "cell_type": "markdown",
   "metadata": {},
   "source": [
    "#### To-Do- Determine the Payment channel for each branch.\n",
    "Count Plot Tips - Use the hue parameter for the \"branch\" column"
   ]
  },
  {
   "cell_type": "code",
   "execution_count": 53,
   "metadata": {},
   "outputs": [
    {
     "data": {
      "image/png": "[encoded data removed]",
      "text/plain": [
       "<Figure size 1080x432 with 1 Axes>"
      ]
     },
     "metadata": {},
     "output_type": "display_data"
    }
   ],
   "source": [
    "#[Write your Code Here]\n",
    "fig, ax = plt.subplots(figsize = (15, 6))\n",
    "sns.countplot(y = \"Payment\", hue = \"Branch\", data = data).set_title(\"Payment Methods By Branch\");"
   ]
  },
  {
   "cell_type": "markdown",
   "metadata": {},
   "source": [
    "#### To-Do- Determine the branch with the lowest rating. This you can determine using abox plot which gives a statistical summary of the plotted features, and you can pick out the branch with the lowest rating from the plot"
   ]
  },
  {
   "cell_type": "code",
   "execution_count": 54,
   "metadata": {
    "scrolled": true
   },
   "outputs": [
    {
     "data": {
      "image/png": "[encoded data removed]",
      "text/plain": [
       "<Figure size 432x288 with 1 Axes>"
      ]
     },
     "metadata": {},
     "output_type": "display_data"
    }
   ],
   "source": [
    "#[Write your Code Here]\n",
    "sns.boxplot(x = \"Branch\", y = \"Rating\", data = data).set_title(\"Ratings By Branch\");"
   ]
  },
  {
   "cell_type": "code",
   "execution_count": 55,
   "metadata": {},
   "outputs": [],
   "source": [
    "#[Write your answer here]"
   ]
  },
  {
   "cell_type": "markdown",
   "metadata": {},
   "source": [
    "#### To-Do - The gender type often affects the kind of products being purchased at the supermarket. \n",
    "* Using a catplot() generate visualization for the \"product line\" on x-axis, quantity on the y-axis, and hue as gender. \n",
    "<br/>\n",
    "\n",
    "#### Set the aspect parameter to 4, so can you can effectively space out each product line. \n",
    "\n",
    "\n",
    "\n",
    "* Plot the same chart, but `Total Column` as the y-axis\n",
    "\n",
    "* Write a summary of the insights you can pick from this chart."
   ]
  },
  {
   "cell_type": "code",
   "execution_count": 56,
   "metadata": {},
   "outputs": [
    {
     "data": {
      "image/png": "[encoded data removed]",
      "text/plain": [
       "<Figure size 1516.35x360 with 1 Axes>"
      ]
     },
     "metadata": {},
     "output_type": "display_data"
    }
   ],
   "source": [
    "#[Write your Code Here]\n",
    "sns.catplot(x = \"Product line\", y = \"Quantity\", hue = \"Gender\", data = data, aspect = 4);"
   ]
  },
  {
   "cell_type": "code",
   "execution_count": 57,
   "metadata": {},
   "outputs": [],
   "source": [
    "#[Write your Code Here]"
   ]
  },
  {
   "cell_type": "markdown",
   "metadata": {},
   "source": [
    "#### To-Do -  An interesting insight to explore is the interaction of Unit price on the Quantity of goods purchased. To achieve this: \n",
    "* Use the `catplot()` to plot `Product line per unit price`, and `Product line per Quantity`. Set the kind parameter to `point` \n",
    "* In a new cell, Write a summary of the insights you uncovered"
   ]
  },
  {
   "cell_type": "code",
   "execution_count": 58,
   "metadata": {},
   "outputs": [
    {
     "data": {
      "image/png": "[encoded data removed]",
      "text/plain": [
       "<Figure size 1152x288 with 1 Axes>"
      ]
     },
     "metadata": {},
     "output_type": "display_data"
    },
    {
     "data": {
      "image/png": "[encoded data removed]",
      "text/plain": [
       "<Figure size 1152x288 with 1 Axes>"
      ]
     },
     "metadata": {},
     "output_type": "display_data"
    }
   ],
   "source": [
    "#[Write your Code Here]\n",
    "sns.catplot(x = \"Product line\", y = \"Unit price\", data = data, aspect = 4, kind = \"point\", height = 4)\n",
    "sns.catplot(x = \"Product line\", y = \"Quantity\", data = data, aspect = 4, kind = \"point\", height = 4);"
   ]
  },
  {
   "cell_type": "markdown",
   "metadata": {},
   "source": [
    "## Step 7 - StandOut Section\n",
    "To make your submission standout, \n",
    "* You can continue to explore more insights that can be uncovered with different plotting methods.\n",
    "* Write a detailed summary on your approach, methods and insights. \n",
    "* Visit the [link](https://seaborn.pydata.org/tutorial/categorical.html) for more Seaborn visualization plots.\n"
   ]
  },
  {
   "cell_type": "markdown",
   "metadata": {},
   "source": [
    "## Step 8 - Documentation.\n",
    "\n",
    "* Write a detailed `ReadMe` that describes the project, explains important approach you followed to solve the tasks. Find a template in the starter file that can get you started quickly. Note: Do limit yourself to the template, you can include any interesting step that is worth sharing. \n",
    "* Write an Executive summary that you can present to `Company XYZ` management. The summary will explain your processes and insights you uncovered that can help the company "
   ]
  },
  {
   "cell_type": "markdown",
   "metadata": {},
   "source": [
    "# Project Title Here\n",
    "\n",
    "## 2019 QUARTER 1 ANALYSIS OF XYZ SUPERMARKETS IN NIGERIA"
   ]
  },
  {
   "cell_type": "markdown",
   "metadata": {},
   "source": [
    "# Project Steps\n",
    "\n",
    "\n",
    "\n",
    "## READING THE FILES\n",
    "    1]. Read individual files from the branches available\n",
    "    2]. Combine all the files into a single document\n",
    "    3]. Write the file back into a csv document\n",
    "    4]. Read the file in back again to commence actual analysis on it.\n",
    "    \n",
    "\n",
    "## DATA EXPLORATION\n",
    "    1]. Check the File quantity by inspecting the shape, rows and columns.\n",
    "    2]. Inspect each of the columns available in the file and get familiarized with the information\n",
    "    3]. Inspect the summary statistics of the file to have a file distribution of the data contained in the file.\n",
    "    4]. Inspect for Missing Values, Duplicate Values of wrong formatted input snd values present in the file and treat them\n",
    "        accordingly.\n",
    "    5]. Format the Date Time columns of the file and creating new columns from them to provide more robust insights of the \n",
    "        data present in the file.\n",
    "\n",
    "\n",
    "## CHECKING THE UNIQUE VALUES OF EACH COLUMN\n",
    "    N.B => This is quite different from checking for duplicate values. This step allows to understand the values present in     each column and how they are distributed.\n",
    "    1]. Check for the unique values contained in each column\n",
    "    2]. Check for the value counts of each unique values contained in each column\n",
    "    3]. Get familiarized with dominant figures and distribution of the values in each column.\n",
    "\n",
    "## DATA AGGREGATION\n",
    "    1]. Choose specific columns from the data to groupby and extract aggregated statistics from the Data for deeper                 insights\n",
    "    2]. Inspect for several occuring group or clustered behavioural patterns that is revealed for aggregated statistics.\n",
    "\n",
    "## DATA VISUALIZATION\n",
    "    1]. Use Histograms, Barcharts, Horizontal Barcharts e.t.c to understand the distribution of data in specifc columns.\n",
    "    2]. Use Boxplot, KDE plot e.t.c to inspect and understand the distribution of columns in the Dataset.\n",
    "    3]. Use Countplot to inspect for aggregated statistics of selected columns of the Dataset.\n",
    "    N.B => The visualization process of data allows for better understanding and detection of some hidden data that might\n",
    "         clearly visible while inspecting the Data manually. It also gives better understanding of the Data."
   ]
  },
  {
   "cell_type": "code",
   "execution_count": null,
   "metadata": {},
   "outputs": [],
   "source": []
  }
 ],
 "metadata": {
  "kernelspec": {
   "display_name": "Python 3",
   "language": "python",
   "name": "python3"
  },
  "language_info": {
   "codemirror_mode": {
    "name": "ipython",
    "version": 3
   },
   "file_extension": ".py",
   "mimetype": "text/x-python",
   "name": "python",
   "nbconvert_exporter": "python",
   "pygments_lexer": "ipython3",
   "version": "3.8.5"
  }
 },
 "nbformat": 4,
 "nbformat_minor": 4
}
